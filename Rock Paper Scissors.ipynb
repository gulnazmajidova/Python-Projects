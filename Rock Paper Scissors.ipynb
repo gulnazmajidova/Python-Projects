{
 "cells": [
  {
   "cell_type": "code",
   "execution_count": 1,
   "id": "b0d99789",
   "metadata": {},
   "outputs": [
    {
     "name": "stdout",
     "output_type": "stream",
     "text": [
      "Enter rock, paper, or scissors (or quit to exit): rock\n",
      "You chose rock\n",
      "The computer chose paper\n",
      "You lose!\n",
      "Enter rock, paper, or scissors (or quit to exit): paper\n",
      "You chose paper\n",
      "The computer chose scissors\n",
      "You lose!\n",
      "Enter rock, paper, or scissors (or quit to exit): scissors\n",
      "You chose scissors\n",
      "The computer chose scissors\n",
      "It's a tie!\n",
      "Enter rock, paper, or scissors (or quit to exit): quit\n"
     ]
    }
   ],
   "source": [
    "import random\n",
    "\n",
    "# Define the game options\n",
    "options = [\"rock\", \"paper\", \"scissors\"]\n",
    "\n",
    "# Define the game logic\n",
    "def play_game(player_choice):\n",
    "    computer_choice = random.choice(options)\n",
    "    print(\"You chose\", player_choice)\n",
    "    print(\"The computer chose\", computer_choice)\n",
    "    if player_choice == computer_choice:\n",
    "        print(\"It's a tie!\")\n",
    "    elif player_choice == \"rock\" and computer_choice == \"scissors\":\n",
    "        print(\"You win!\")\n",
    "    elif player_choice == \"paper\" and computer_choice == \"rock\":\n",
    "        print(\"You win!\")\n",
    "    elif player_choice == \"scissors\" and computer_choice == \"paper\":\n",
    "        print(\"You win!\")\n",
    "    else:\n",
    "        print(\"You lose!\")\n",
    "\n",
    "# Prompt the user for input and play the game\n",
    "while True:\n",
    "    player_choice = input(\"Enter rock, paper, or scissors (or quit to exit): \").lower()\n",
    "    if player_choice == \"quit\":\n",
    "        break\n",
    "    elif player_choice not in options:\n",
    "        print(\"Invalid input. Please try again.\")\n",
    "    else:\n",
    "        play_game(player_choice)\n"
   ]
  },
  {
   "cell_type": "code",
   "execution_count": null,
   "id": "a1957a51",
   "metadata": {},
   "outputs": [],
   "source": []
  }
 ],
 "metadata": {
  "kernelspec": {
   "display_name": "Python 3 (ipykernel)",
   "language": "python",
   "name": "python3"
  },
  "language_info": {
   "codemirror_mode": {
    "name": "ipython",
    "version": 3
   },
   "file_extension": ".py",
   "mimetype": "text/x-python",
   "name": "python",
   "nbconvert_exporter": "python",
   "pygments_lexer": "ipython3",
   "version": "3.9.7"
  }
 },
 "nbformat": 4,
 "nbformat_minor": 5
}
