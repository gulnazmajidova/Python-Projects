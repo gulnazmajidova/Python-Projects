{
 "cells": [
  {
   "cell_type": "code",
   "execution_count": 3,
   "id": "a15c0e9c",
   "metadata": {},
   "outputs": [
    {
     "name": "stdout",
     "output_type": "stream",
     "text": [
      "2\n",
      "Gulnaz asks: Will I be rich\n",
      "Magic 8-Ball's answer: It is decidedly so\n"
     ]
    }
   ],
   "source": [
    "import random\n",
    "\n",
    "name = \"Gulnaz\"\n",
    "question = \"Will I be rich\"\n",
    "answer = \"\"\n",
    "\n",
    "random_number = random.randint(1,11)\n",
    "print(random_number)\n",
    "\n",
    "if random_number == 1:\n",
    "  answer = \"Yes - definitely\"\n",
    "elif random_number == 2:\n",
    "  answer = \"It is decidedly so\"\n",
    "elif random_number == 3:\n",
    "  answer = \"Without a doubt\"\n",
    "elif random_number == 4:\n",
    "  answer = \"Reply hazy, try again\"\n",
    "elif random_number == 5:\n",
    "  answer = \"Ask again later\"\n",
    "elif random_number == 6:\n",
    "  answer = \"Better not tell you now\"\n",
    "elif random_number == 7:\n",
    "  answer = \"My sources say no\"\n",
    "elif random_number == 8:\n",
    "  answer = \"Outlook not so good\"\n",
    "elif random_number == 9:\n",
    "  answer = \"Very doubtful\"\n",
    "elif random_number == 10:\n",
    "  answer = \"Birds say -- yesss\"\n",
    "elif random_number == 11:\n",
    "  answer = \"Tomorrow is a mystery\"\n",
    "else:\n",
    "  answer = \"Error\"\n",
    "\n",
    "if name == \"\":\n",
    "  print(question)\n",
    "else:\n",
    "  print(name + \" asks: \" + question)\n",
    "\n",
    "if question == \"\":\n",
    "  print(\"Please ask your question\")\n",
    "else:\n",
    "  print(\"Magic 8-Ball's answer: \" + answer)"
   ]
  }
 ],
 "metadata": {
  "kernelspec": {
   "display_name": "Python 3 (ipykernel)",
   "language": "python",
   "name": "python3"
  },
  "language_info": {
   "codemirror_mode": {
    "name": "ipython",
    "version": 3
   },
   "file_extension": ".py",
   "mimetype": "text/x-python",
   "name": "python",
   "nbconvert_exporter": "python",
   "pygments_lexer": "ipython3",
   "version": "3.9.7"
  }
 },
 "nbformat": 4,
 "nbformat_minor": 5
}
